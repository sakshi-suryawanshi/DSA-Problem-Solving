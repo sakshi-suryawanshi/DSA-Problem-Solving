{
 "cells": [
  {
   "cell_type": "markdown",
   "metadata": {},
   "source": [
    "### Sorting Algorithms"
   ]
  },
  {
   "cell_type": "markdown",
   "metadata": {},
   "source": [
    "#### Bubble Sort --> Time Complexity: O(n^2)"
   ]
  },
  {
   "cell_type": "code",
   "execution_count": 37,
   "metadata": {},
   "outputs": [
    {
     "name": "stdout",
     "output_type": "stream",
     "text": [
      "[1, 2, 3, 4, 5, 6, 7, 8, 9, 10]\n"
     ]
    }
   ],
   "source": [
    "#Bubble Sort\n",
    "arr = [3, 5, 4, 6, 1, 2, 8, 7, 9, 10]\n",
    "def bubble(arr):\n",
    "    for i in range(len(arr)-1):\n",
    "        for j in range(i+1,len(arr)):\n",
    "            if arr[i] > arr[j]:\n",
    "                arr[i],arr[j] = arr[j],arr[i]\n",
    "    print(arr)\n",
    "                \n",
    "        \n",
    "bubble(arr)"
   ]
  },
  {
   "cell_type": "markdown",
   "metadata": {},
   "source": [
    "#### Selection Sort --> Time Complexity: O(n^2)"
   ]
  },
  {
   "cell_type": "code",
   "execution_count": 38,
   "metadata": {},
   "outputs": [
    {
     "name": "stdout",
     "output_type": "stream",
     "text": [
      "[1, 2, 3, 4, 5, 6, 7, 8, 9, 10]\n"
     ]
    }
   ],
   "source": [
    "# Selection Sort\n",
    "arr = [3, 5, 4, 6, 1, 2, 8, 7, 9, 10]\n",
    "def selection(arr):\n",
    "    for i in range(len(arr)-1):\n",
    "        position = i\n",
    "        for j in range(i+1, len(arr)):\n",
    "            if arr[position] > arr[j]:\n",
    "                position = j\n",
    "        if position != i:\n",
    "            arr[i],arr[position] = arr[position], arr[i]\n",
    "    print(arr)\n",
    "selection(arr)            "
   ]
  },
  {
   "cell_type": "markdown",
   "metadata": {},
   "source": [
    "#### Insertion Sort --> Time Complexity: O(n^2), best -> O(n)"
   ]
  },
  {
   "cell_type": "code",
   "execution_count": 40,
   "metadata": {},
   "outputs": [
    {
     "name": "stdout",
     "output_type": "stream",
     "text": [
      "[1, 2, 3, 4, 5, 6, 7, 8, 9, 10]\n"
     ]
    }
   ],
   "source": [
    "# Insertion Sort\n",
    "arr = [3, 5, 4, 6, 1, 2, 8, 7, 9, 10]\n",
    "def insertion(arr):\n",
    "    for i in range(1, len(arr)):\n",
    "        temp = arr[i]\n",
    "        j = i-1\n",
    "        while j >= 0 and arr[j] > temp:\n",
    "            arr[j+1] = arr[j]\n",
    "            j -= 1\n",
    "        arr[j+1] = temp\n",
    "    print(arr)\n",
    "insertion(arr)"
   ]
  },
  {
   "cell_type": "markdown",
   "metadata": {},
   "source": [
    "#### Quick Sort --> Time Complexity: O(n logn)  if asc/desc then O(n)"
   ]
  },
  {
   "cell_type": "code",
   "execution_count": 41,
   "metadata": {},
   "outputs": [
    {
     "name": "stdout",
     "output_type": "stream",
     "text": [
      "[1, 2, 3, 4, 5, 6, 7, 8, 9, 10]\n"
     ]
    }
   ],
   "source": [
    "# Quick Sort\n",
    "arr = [3, 5, 4, 6, 1, 2, 9, 7, 8, 10]\n",
    "def quick(arr,start, end):\n",
    "    if start < end:\n",
    "        p  = partition(arr,start, end)\n",
    "        quick(arr, start, p-1)\n",
    "        quick(arr, p+1, end)\n",
    "    \n",
    "    \n",
    "def partition(arr, start, end):\n",
    "    pivot = arr[start]\n",
    "    i = start +1\n",
    "    j = end\n",
    "    while i <= j:\n",
    "        if arr[i] < pivot:\n",
    "            i += 1\n",
    "        elif arr[j] > pivot:\n",
    "            j -= 1\n",
    "        elif arr[i] > pivot and arr[j] < pivot:\n",
    "            arr[i], arr[j] = arr[j], arr[i]\n",
    "            i+= 1\n",
    "            j -= 1\n",
    "    arr[start], arr[j] = arr[j], arr[start]\n",
    "    return j\n",
    "\n",
    "quick(arr,0,9)\n",
    "print(arr)"
   ]
  },
  {
   "cell_type": "markdown",
   "metadata": {},
   "source": [
    "#### Merge Sort --> Time Complexity: O(n logn)"
   ]
  },
  {
   "cell_type": "code",
   "execution_count": 44,
   "metadata": {},
   "outputs": [
    {
     "name": "stdout",
     "output_type": "stream",
     "text": [
      "partition:  [3] [5]\n",
      "partition:  [3, 5] [4]\n",
      "partition:  [6] [1]\n",
      "partition:  [3, 4, 5] [1, 6]\n",
      "partition:  [2] [9]\n",
      "partition:  [2, 9] [7]\n",
      "partition:  [8] [10]\n",
      "partition:  [2, 7, 9] [8, 10]\n",
      "partition:  [1, 3, 4, 5, 6] [2, 7, 8, 9, 10]\n",
      "Sorted Array:  [1, 2, 3, 4, 5, 6, 7, 8, 9, 10]\n"
     ]
    }
   ],
   "source": [
    "# Merge Sort\n",
    "arr = [3, 5, 4, 6, 1, 2, 9, 7, 8, 10]\n",
    "def mergeSort(arr,start, end):\n",
    "    if start < end:\n",
    "        mid = (start + end)//2\n",
    "        mergeSort(arr,start,mid)\n",
    "        mergeSort(arr,mid+1, end)\n",
    "        merge(arr,start,mid,end)\n",
    "\n",
    "def merge(arr,start,mid,end):\n",
    "    n1 = mid-start+1\n",
    "    n2 = end-mid\n",
    "    leftArray = []\n",
    "    rightArray = []\n",
    "    for i in range(start,mid+1):\n",
    "        leftArray.append(arr[i])\n",
    "    for i in range(mid+1,end+1):\n",
    "        rightArray.append(arr[i])\n",
    "    print('partition: ',leftArray,rightArray)\n",
    "    i = 0\n",
    "    j = 0\n",
    "    k = start\n",
    "    while i < n1 and j < n2:\n",
    "        if leftArray[i] < rightArray[j]:\n",
    "            arr[k] = leftArray[i]\n",
    "            i+=1\n",
    "            k += 1\n",
    "        elif leftArray[i] > rightArray[j]:\n",
    "            arr[k] = rightArray[j]\n",
    "            j +=1\n",
    "            k += 1\n",
    "        \n",
    "    while i < n1:\n",
    "            arr[k] = leftArray[i]\n",
    "            i+=1\n",
    "            k += 1\n",
    "    while j < n2:\n",
    "            arr[k] = rightArray[j]\n",
    "            j +=1\n",
    "            k += 1\n",
    "\n",
    "            \n",
    "mergeSort(arr,0,len(arr)-1)\n",
    "print('Sorted Array: ',arr)"
   ]
  },
  {
   "cell_type": "markdown",
   "metadata": {},
   "source": [
    "### Searching Algos"
   ]
  },
  {
   "cell_type": "markdown",
   "metadata": {},
   "source": [
    "#### Linear Search    T.C. --> O(n)"
   ]
  },
  {
   "cell_type": "code",
   "execution_count": 49,
   "metadata": {},
   "outputs": [
    {
     "name": "stdout",
     "output_type": "stream",
     "text": [
      "element is present in list\n"
     ]
    }
   ],
   "source": [
    "# Linear Search\n",
    "arr = [3, 5, 4, 6, 1, 2, 9, 7, 8, 10]\n",
    "\n",
    "def linear(arr,x):\n",
    "    for ele in arr:\n",
    "        if ele == x:\n",
    "            return \"element is present in list\"\n",
    "    return \"element is not present in list\"\n",
    "\n",
    "print(linear(arr,5))"
   ]
  },
  {
   "cell_type": "markdown",
   "metadata": {},
   "source": [
    "#### Binary Search   T.C. --> O(logn)"
   ]
  },
  {
   "cell_type": "code",
   "execution_count": 50,
   "metadata": {},
   "outputs": [
    {
     "name": "stdout",
     "output_type": "stream",
     "text": [
      "element is present in list\n"
     ]
    }
   ],
   "source": [
    "# Binary Search\n",
    "arr = [3, 5, 4, 6, 1, 2, 9, 7, 8, 10]\n",
    "def binary(arr,low,high,x):\n",
    "    while high > low:\n",
    "        mid = (high+low)//2\n",
    "        if arr[mid] == x:\n",
    "            return \"element is present in list\"\n",
    "        elif arr[mid] > x:\n",
    "            high = mid -1\n",
    "        elif arr[mid] < x:\n",
    "            low = mid + 1\n",
    "    return \"element is not present in list\"\n",
    "\n",
    "\n",
    "if __name__ == \"__main__\":\n",
    "    arr.sort()\n",
    "    print(binary(arr,0,9,5))\n",
    "        "
   ]
  }
 ],
 "metadata": {
  "kernelspec": {
   "display_name": "Python 3",
   "language": "python",
   "name": "python3"
  },
  "language_info": {
   "codemirror_mode": {
    "name": "ipython",
    "version": 3
   },
   "file_extension": ".py",
   "mimetype": "text/x-python",
   "name": "python",
   "nbconvert_exporter": "python",
   "pygments_lexer": "ipython3",
   "version": "3.7.6"
  }
 },
 "nbformat": 4,
 "nbformat_minor": 4
}
